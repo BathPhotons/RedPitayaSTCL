{
 "cells": [
  {
   "attachments": {},
   "cell_type": "markdown",
   "metadata": {},
   "source": [
    "# STCL control notebook\n",
    "\n",
    "Setup details can be found in OneNote: 'Cameron STCL startup'.\n",
    "\n",
    "Or just run the cells blindly and hope for the best :)"
   ]
  },
  {
   "cell_type": "code",
   "execution_count": 10,
   "metadata": {},
   "outputs": [],
   "source": [
    "from lockclient import LockClient, RP_client"
   ]
  },
  {
   "cell_type": "markdown",
   "metadata": {},
   "source": [
    "Connect to the Red Pitayas (RPs).\n",
    "\n",
    "First make a dictionary with the cavity, laser and monitor RPs. IP addresses are not currently static but are somewhat stable.\n",
    "\n",
    "**TODO** remove requirement for monitor RP."
   ]
  },
  {
   "cell_type": "code",
   "execution_count": 12,
   "metadata": {},
   "outputs": [
    {
     "name": "stdout",
     "output_type": "stream",
     "text": [
      "No settings for Lock1 found, creating new setting file based on defaults.\n",
      "Master set to Cav\n",
      "No settings for Mon found, creating new setting file based on defaults.\n",
      "Master set to Cav\n"
     ]
    }
   ],
   "source": [
    "RPs = dict(\n",
    "    Cav=RP_client((\"169.254.240.142\", 5000), {}, mode=\"scan\"),\n",
    "    Lock1=RP_client((\"169.254.107.123\", 5000), {}, mode=\"lock\"),\n",
    "    Mon=RP_client((\"169.254.143.26\", 5000), {}, mode=\"monitor\"),\n",
    ")\n",
    "\n",
    "Lock = LockClient(RPs)"
   ]
  },
  {
   "cell_type": "markdown",
   "metadata": {},
   "source": [
    "Connect to and start RPs\n",
    "\n",
    "**TODO: change so that we are connecting with SSH rather than connect_all.** This is useful so that we can read errors off the consoles for debugging."
   ]
  },
  {
   "cell_type": "code",
   "execution_count": 13,
   "metadata": {},
   "outputs": [
    {
     "name": "stdout",
     "output_type": "stream",
     "text": [
      "connecting...\n"
     ]
    }
   ],
   "source": [
    "#Lock.connect_all()\n",
    "Lock.start()"
   ]
  },
  {
   "cell_type": "markdown",
   "metadata": {},
   "source": [
    "Start the cavity RP scanning"
   ]
  },
  {
   "cell_type": "code",
   "execution_count": 14,
   "metadata": {},
   "outputs": [
    {
     "name": "stdout",
     "output_type": "stream",
     "text": [
      "connected to <socket.socket fd=2200, family=2, type=1, proto=0, laddr=('169.254.94.211', 55338), raddr=('169.254.240.142', 5065)>\n"
     ]
    }
   ],
   "source": [
    "Lock.start_scan(\"Cav\");"
   ]
  },
  {
   "cell_type": "code",
   "execution_count": null,
   "metadata": {},
   "outputs": [],
   "source": []
  }
 ],
 "metadata": {
  "kernelspec": {
   "display_name": "my-python3-kerne",
   "language": "python",
   "name": "my-python3-kerne"
  },
  "language_info": {
   "codemirror_mode": {
    "name": "ipython",
    "version": 3
   },
   "file_extension": ".py",
   "mimetype": "text/x-python",
   "name": "python",
   "nbconvert_exporter": "python",
   "pygments_lexer": "ipython3",
   "version": "3.12.1"
  }
 },
 "nbformat": 4,
 "nbformat_minor": 2
}
